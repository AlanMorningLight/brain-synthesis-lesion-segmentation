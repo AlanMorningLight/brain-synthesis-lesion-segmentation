{
 "cells": [
  {
   "cell_type": "code",
   "execution_count": null,
   "metadata": {},
   "outputs": [],
   "source": [
    "import os\n",
    "import glob2 as glob\n",
    "import numpy as np\n",
    "import SimpleITK as sitk\n",
    "\n",
    "from sklearn.decomposition import PCA\n",
    "from skimage import io\n",
    "import pickle, warnings\n",
    "\n",
    "import seaborn as sns"
   ]
  },
  {
   "cell_type": "code",
   "execution_count": null,
   "metadata": {},
   "outputs": [],
   "source": [
    "def read_nii_from_file(filename, is_label=False):\n",
    "    sitk_niim = sitk.ReadImage(filename)\n",
    "    niim = sitk.GetArrayFromImage(sitk_niim)\n",
    "    return niim"
   ]
  },
  {
   "cell_type": "code",
   "execution_count": null,
   "metadata": {},
   "outputs": [],
   "source": [
    "subjects = glob.glob('/datasets/isles18/TRAINING/case_*/')"
   ]
  },
  {
   "cell_type": "code",
   "execution_count": null,
   "metadata": {},
   "outputs": [],
   "source": [
    "MIN_DWI_ZDIM = 28"
   ]
  },
  {
   "cell_type": "code",
   "execution_count": null,
   "metadata": {},
   "outputs": [],
   "source": [
    "# dwi_zdims = []\n",
    "dwi_4d_nz_vals_list = []\n",
    "for casei, case in enumerate(subjects):\n",
    "    for subdir, dirs, files in os.walk(case):\n",
    "        for file in files:\n",
    "            if file.endswith('.nii'):\n",
    "                if 'O.OT.' in file:\n",
    "                    is_label = True\n",
    "                else:\n",
    "                    is_label = False\n",
    "\n",
    "                if 'O.MR_4DPWI.' in file:\n",
    "                    im = read_nii_from_file(os.path.join(subdir, file), is_label=is_label)\n",
    "                    z, x, y = np.where(np.sum(im, axis=0) > -23*MIN_DWI_ZDIM)\n",
    "                    dwi_4d_nz_vals_list.append(im[:MIN_DWI_ZDIM, z, x, y])  \n",
    "                else:\n",
    "                    continue\n",
    "                \n",
    "                # dwi_zdims.append(im.shape[0])\n",
    "                # print(int(np.min(im)), int(np.max(im)), int(np.mean(im)))\n",
    "                \n",
    "dwi_4d_nz_vals = np.concatenate(dwi_4d_nz_vals_list, axis=1)"
   ]
  },
  {
   "cell_type": "code",
   "execution_count": null,
   "metadata": {},
   "outputs": [],
   "source": [
    "dwi_4d_nz_vals_nm = (dwi_4d_nz_vals - np.mean(dwi_4d_nz_vals)) / np.std(dwi_4d_nz_vals)"
   ]
  },
  {
   "cell_type": "code",
   "execution_count": null,
   "metadata": {},
   "outputs": [],
   "source": [
    "u, s, vh = np.linalg.svd(dwi_4d_nz_vals_nm, full_matrices=False)"
   ]
  },
  {
   "cell_type": "code",
   "execution_count": null,
   "metadata": {},
   "outputs": [],
   "source": [
    "with open('isles_4ddwi_svd.pkl', 'wb') as f:\n",
    "    pickle.dump([u, s], f)"
   ]
  },
  {
   "cell_type": "code",
   "execution_count": null,
   "metadata": {},
   "outputs": [],
   "source": [
    "with open('isles_4ddwi_svd.pkl', 'rb') as f:\n",
    "    u, s = pickle.load(f)"
   ]
  },
  {
   "cell_type": "code",
   "execution_count": null,
   "metadata": {},
   "outputs": [],
   "source": [
    "np.tensordot(np.transpose(u[:,:2]), im[:MIN_DWI_ZDIM,:], axes=(1, 0)).shape"
   ]
  },
  {
   "cell_type": "code",
   "execution_count": null,
   "metadata": {},
   "outputs": [],
   "source": [
    "def im_normalize(im):    \n",
    "    im_mean = np.mean(im)\n",
    "    im_std = np.std(im)\n",
    "    \n",
    "    im_uplimit = im_mean + .5*im_std\n",
    "    im_lowlimit = 0\n",
    "    \n",
    "    im[im > im_uplimit] = im_uplimit\n",
    "    im[im < im_lowlimit] = im_lowlimit\n",
    "    \n",
    "    im = (im - np.min(im)) / (np.max(im) - np.min(im)) * 255\n",
    "    \n",
    "    return im"
   ]
  },
  {
   "cell_type": "code",
   "execution_count": null,
   "metadata": {},
   "outputs": [],
   "source": [
    "def write_2d_im(subjects, save_dir):\n",
    "    for casei, case in enumerate(subjects):\n",
    "        imct = None\n",
    "        im4dwi = None\n",
    "        imlb = None\n",
    "        for subdir, dirs, files in os.walk(case):\n",
    "            for file in files:\n",
    "                if file.endswith('.nii'):\n",
    "                    if 'O.OT.' in file:\n",
    "                        is_label = True\n",
    "                    else:\n",
    "                        is_label = False\n",
    "\n",
    "                    im = read_nii_from_file(os.path.join(subdir, file), is_label=is_label)\n",
    "\n",
    "                    if '_4DPWI.' in file:\n",
    "                        im4dwi = np.tensordot(np.transpose(u[:,:2]), im[:MIN_DWI_ZDIM,:], axes=(1, 0))\n",
    "                        _im4dwi = im\n",
    "                    elif 'O.CT.' in file:\n",
    "                        imct = im\n",
    "                    elif '_CBF.' in file:\n",
    "                        imcbf = im\n",
    "                    elif '_CBV.' in file:\n",
    "                        imcvf = im\n",
    "                    elif '_MTT.' in file:\n",
    "                        immtt = im\n",
    "                    elif '_Tmax.' in file:\n",
    "                        imtmax = im\n",
    "                    elif 'O.OT.' in file:\n",
    "                        imlb = im\n",
    "                    else:\n",
    "                        continue\n",
    "\n",
    "        im4dwi0 = -1*im4dwi[0,:]\n",
    "\n",
    "        im4dwi0_nm = im_normalize(im4dwi0)\n",
    "        imct_nm = im_normalize(imct)\n",
    "        imcbf_nm = im_normalize(imcbf)\n",
    "        imcvf_nm = im_normalize(imcvf)\n",
    "        immtt_nm = im_normalize(immtt)\n",
    "        imtmax_nm = imtmax * 10\n",
    "        \n",
    "        _im4dwi_nm = im_normalize(_im4dwi)\n",
    "        \n",
    "        if imlb is None:\n",
    "            imlb = np.zeros_like(imct)\n",
    "\n",
    "        for zidx in range(0, imct.shape[0]):\n",
    "            with warnings.catch_warnings():\n",
    "                warnings.simplefilter(\"ignore\")\n",
    "                im2d = np.stack([imct_nm[zidx,:,:], im4dwi0_nm[zidx,:,:], imtmax_nm[zidx,:,:]], axis=2).astype(np.uint8)\n",
    "                imfname = os.path.join(save_dir,\n",
    "                    os.path.basename(os.path.normpath(case)) + '_3ch_sli' + str(zidx) + '.png')\n",
    "                io.imsave(imfname, im2d)\n",
    "                \n",
    "                im2d2 = np.stack([imcbf_nm[zidx,:,:], imcvf_nm[zidx,:,:], immtt_nm[zidx,:,:]], axis=2).astype(np.uint8)\n",
    "                imfname = os.path.join(save_dir,\n",
    "                    os.path.basename(os.path.normpath(case)) + '_3ch2_sli' + str(zidx) + '.png')\n",
    "                io.imsave(imfname, im2d2)\n",
    "\n",
    "                lb2d = imlb[zidx,:,:] * 255\n",
    "                lbfname = os.path.join(save_dir,\n",
    "                    os.path.basename(os.path.normpath(case)) + '_lb_sli' + str(zidx) + '.png')\n",
    "                io.imsave(lbfname, lb2d)\n",
    "                \n",
    "                lb2d2 = np.stack([_im4dwi_nm[0,zidx,:,:], lb2d, _im4dwi_nm[-1,zidx,:,:]], axis=2).astype(np.uint8)\n",
    "                #lb2d2 = np.stack([lb2d, immtt_nm[zidx,:,:]*0.5, imcbf_nm[zidx,:,:]*0.5], axis=2).astype(np.uint8)\n",
    "                lb2fname = os.path.join(save_dir,\n",
    "                    os.path.basename(os.path.normpath(case)) + '_lb2_sli' + str(zidx) + '.png')\n",
    "                io.imsave(lb2fname, lb2d2)\n",
    "                \n",
    "    return imct, imct_nm, im4dwi0, im4dwi0_nm, imtmax, imtmax_nm"
   ]
  },
  {
   "cell_type": "code",
   "execution_count": null,
   "metadata": {},
   "outputs": [],
   "source": [
    "imct, imct_nm, im4dwi0, im4dwi0_nm, imtmax, imtmax_nm =\\\n",
    "  write_2d_im(subjects, '/datasets/isles18/training_png')"
   ]
  },
  {
   "cell_type": "code",
   "execution_count": null,
   "metadata": {},
   "outputs": [],
   "source": [
    "sns.distplot(imct.flatten())"
   ]
  },
  {
   "cell_type": "code",
   "execution_count": null,
   "metadata": {},
   "outputs": [],
   "source": [
    "print(np.mean(imct), np.median(imct), np.std(imct), np.mean(imct) + .5*np.std(imct),\n",
    "      np.mean(imct) + np.std(imct))"
   ]
  },
  {
   "cell_type": "code",
   "execution_count": null,
   "metadata": {},
   "outputs": [],
   "source": [
    "sns.distplot(im4dwi0.flatten())"
   ]
  },
  {
   "cell_type": "code",
   "execution_count": null,
   "metadata": {},
   "outputs": [],
   "source": [
    "print(np.mean(im4dwi0), np.median(im4dwi0), np.std(im4dwi0), np.mean(im4dwi0) + .5*np.std(im4dwi0),\n",
    "      np.mean(im4dwi0) + np.std(im4dwi0))"
   ]
  },
  {
   "cell_type": "code",
   "execution_count": null,
   "metadata": {},
   "outputs": [],
   "source": [
    "sns.distplot(imtmax.flatten())"
   ]
  },
  {
   "cell_type": "code",
   "execution_count": null,
   "metadata": {
    "scrolled": true
   },
   "outputs": [],
   "source": [
    "sns.distplot(imct_nm.flatten())"
   ]
  },
  {
   "cell_type": "code",
   "execution_count": null,
   "metadata": {},
   "outputs": [],
   "source": [
    "sns.distplot(im4dwi0_nm.flatten())"
   ]
  },
  {
   "cell_type": "code",
   "execution_count": null,
   "metadata": {},
   "outputs": [],
   "source": [
    "sns.distplot(imtmax_nm.flatten())"
   ]
  },
  {
   "cell_type": "code",
   "execution_count": null,
   "metadata": {},
   "outputs": [],
   "source": [
    "subjects = glob.glob('/datasets/isles18/TESTING/case_*/')\n",
    "imct, imct_nm, im4dwi0, im4dwi0_nm, imtmax, imtmax_nm =\\\n",
    "    write_2d_im(subjects, '/datasets/isles18/testing_png')"
   ]
  },
  {
   "cell_type": "code",
   "execution_count": null,
   "metadata": {},
   "outputs": [],
   "source": [
    "def write_2dext_im(subjects, save_dir):\n",
    "    for casei, case in enumerate(subjects):\n",
    "        imct = None\n",
    "        im4dwi = None\n",
    "        imlb = None\n",
    "        for subdir, dirs, files in os.walk(case):\n",
    "            for file in files:\n",
    "                if file.endswith('.nii'):\n",
    "                    if 'O.OT.' in file:\n",
    "                        is_label = True\n",
    "                    else:\n",
    "                        is_label = False\n",
    "\n",
    "                    im = read_nii_from_file(os.path.join(subdir, file), is_label=is_label)\n",
    "\n",
    "                    if '_4DPWI.' in file:\n",
    "                        #im4dwi = np.tensordot(np.transpose(u[:,:2]), im[:MIN_DWI_ZDIM,:], axes=(1, 0))\n",
    "                        im4dwi = np.zeros((64, im.shape[1], im.shape[2], im.shape[3]))\n",
    "                        im4dwi[:im.shape[0],:,:,:] = im\n",
    "                        im4dwi = np.swapaxes(im4dwi, 0, 1)\n",
    "                        im4dwi = np.swapaxes(im4dwi, 1, 2)\n",
    "                        im4dwi = np.swapaxes(im4dwi, 2, 3)\n",
    "                    elif 'O.CT.' in file:\n",
    "                        imct = im\n",
    "                    elif '_CBF.' in file:\n",
    "                        imcbf = im\n",
    "                    elif '_CBV.' in file:\n",
    "                        imcbv = im\n",
    "                    elif '_MTT.' in file:\n",
    "                        immtt = im\n",
    "                    elif '_Tmax.' in file:\n",
    "                        imtmax = im\n",
    "                    elif 'O.OT.' in file:\n",
    "                        imlb = im\n",
    "                    else:\n",
    "                        continue\n",
    "\n",
    "        im4dwi0 = -1*im4dwi[0,:]\n",
    "\n",
    "        im4dwi_nm = im_normalize(im4dwi)\n",
    "        imct_nm = im_normalize(imct)\n",
    "        imcbf_nm = im_normalize(imcbf)\n",
    "        imcbv_nm = im_normalize(imcbv)\n",
    "        imcbf_nm = im_normalize(imcbf)\n",
    "        immtt_nm = im_normalize(immtt)\n",
    "        imtmax_nm = imtmax * 10\n",
    "        \n",
    "        if imlb is None:\n",
    "            imlb = np.zeros_like(imct)\n",
    "\n",
    "        for zidx in range(0, imct.shape[0]):\n",
    "            with warnings.catch_warnings():\n",
    "                warnings.simplefilter(\"ignore\")\n",
    "                im2dext = np.stack([imct_nm[zidx,:,:], imcbf_nm[zidx,:,:], imcbv_nm[zidx,:,:], \n",
    "                                    immtt_nm[zidx,:,:], imtmax_nm[zidx,:,:]], axis=2)\n",
    "                im2dext = np.concatenate((im2dext, im4dwi_nm[zidx,:,:,:]), axis=2)\n",
    "                \n",
    "                imfname = os.path.join(save_dir,\n",
    "                    os.path.basename(os.path.normpath(case)) + '_extch_sli' + str(zidx) + '.pkl')\n",
    "                with open(imfname, 'wb') as f:\n",
    "                    pickle.dump(im2dext, f)\n",
    "\n",
    "                lb2d = imlb[zidx,:,:] * 255\n",
    "                lbfname = os.path.join(save_dir,\n",
    "                    os.path.basename(os.path.normpath(case)) + '_lb_sli' + str(zidx) + '.png')\n",
    "                io.imsave(lbfname, lb2d)"
   ]
  },
  {
   "cell_type": "code",
   "execution_count": null,
   "metadata": {},
   "outputs": [],
   "source": [
    "subjects = glob.glob('/raid/datasets/ISLES2018/TRAINING/case_*/')\n",
    "write_2dext_im(subjects, '/raid/datasets/ISLES2018/training_2dext')"
   ]
  },
  {
   "cell_type": "code",
   "execution_count": null,
   "metadata": {},
   "outputs": [],
   "source": [
    "subjects = glob.glob('/raid/datasets/ISLES2018/TESTING/case_*/')\n",
    "write_2dext_im(subjects, '/raid/datasets/ISLES2018/testing_2dext')"
   ]
  },
  {
   "cell_type": "code",
   "execution_count": null,
   "metadata": {},
   "outputs": [],
   "source": []
  }
 ],
 "metadata": {
  "kernelspec": {
   "display_name": "Python 3",
   "language": "python",
   "name": "python3"
  },
  "language_info": {
   "codemirror_mode": {
    "name": "ipython",
    "version": 3
   },
   "file_extension": ".py",
   "mimetype": "text/x-python",
   "name": "python",
   "nbconvert_exporter": "python",
   "pygments_lexer": "ipython3",
   "version": "3.5.2"
  }
 },
 "nbformat": 4,
 "nbformat_minor": 2
}
