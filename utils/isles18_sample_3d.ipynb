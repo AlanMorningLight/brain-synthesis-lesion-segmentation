{
 "cells": [
  {
   "cell_type": "code",
   "execution_count": 1,
   "metadata": {},
   "outputs": [],
   "source": [
    "import os\n",
    "import glob2 as glob\n",
    "import numpy as np\n",
    "import SimpleITK as sitk\n",
    "\n",
    "import pickle, warnings\n",
    "import seaborn as sns"
   ]
  },
  {
   "cell_type": "code",
   "execution_count": 2,
   "metadata": {},
   "outputs": [],
   "source": [
    "def read_nii_from_file(filename, is_label=False):\n",
    "    sitk_niim = sitk.ReadImage(filename)\n",
    "    niim = sitk.GetArrayFromImage(sitk_niim)\n",
    "    return niim"
   ]
  },
  {
   "cell_type": "code",
   "execution_count": 3,
   "metadata": {},
   "outputs": [],
   "source": [
    "def im_normalize(im):    \n",
    "    im_mean = np.mean(im)\n",
    "    im_std = np.std(im)\n",
    "    \n",
    "    im_uplimit = im_mean + .5*im_std\n",
    "    im_lowlimit = 0\n",
    "    \n",
    "    im[im > im_uplimit] = im_uplimit\n",
    "    im[im < im_lowlimit] = im_lowlimit\n",
    "    \n",
    "    im = (im - np.min(im)) / (np.max(im) - np.min(im)) * 255\n",
    "    \n",
    "    return im"
   ]
  },
  {
   "cell_type": "code",
   "execution_count": 4,
   "metadata": {},
   "outputs": [],
   "source": [
    "def fill_im_with_data(im_in, CH_DIM=64, Z_DIM=24, XY_DIMS = [256, 256]):\n",
    "    if len(im_in.shape) == 4:\n",
    "        im = np.zeros((CH_DIM, Z_DIM, XY_DIMS[0], XY_DIMS[1]))\n",
    "        z_idx = 1\n",
    "    else:\n",
    "        im = np.zeros((Z_DIM, XY_DIMS[0], XY_DIMS[1]))\n",
    "        z_idx = 0\n",
    "    \n",
    "    z_start = int(Z_DIM/2 - np.ceil(im_in.shape[z_idx]/2))\n",
    "    \n",
    "    if len(im_in.shape) == 4:\n",
    "        im[:im_in.shape[0], z_start:z_start + im_in.shape[1], :, :] = im_in\n",
    "    else:\n",
    "        im[z_start:z_start + im_in.shape[0], :, :] = im_in\n",
    "    \n",
    "    return im"
   ]
  },
  {
   "cell_type": "code",
   "execution_count": 6,
   "metadata": {},
   "outputs": [],
   "source": [
    "MIN_DWI_ZDIM = 28\n",
    "with open('isles_4ddwi_svd.pkl', 'rb') as f:\n",
    "    u, s = pickle.load(f)"
   ]
  },
  {
   "cell_type": "code",
   "execution_count": 21,
   "metadata": {},
   "outputs": [],
   "source": [
    "CH_DIM = 64\n",
    "Z_DIM = 24\n",
    "def write_3d_im(subjects, save_dir):\n",
    "    for casei, case in enumerate(subjects):\n",
    "        imct = None\n",
    "        im4dwi = None\n",
    "        imlb = None\n",
    "        for subdir, dirs, files in os.walk(case):\n",
    "            for file in files:\n",
    "                if file.endswith('.nii'):\n",
    "                    if 'O.OT.' in file:\n",
    "                        is_label = True\n",
    "                    else:\n",
    "                        is_label = False\n",
    "\n",
    "                    im = read_nii_from_file(os.path.join(subdir, file), is_label=is_label)\n",
    "                    im = fill_im_with_data(im, CH_DIM, Z_DIM)\n",
    "\n",
    "                    if '_4DPWI.' in file:\n",
    "                        _im4dwi = im\n",
    "                        im4dwi = np.tensordot(np.transpose(u[:,:2]), im[:MIN_DWI_ZDIM,:], axes=(1, 0))\n",
    "                        #im4dwi = np.swapaxes(im4dwi, 0, 1)\n",
    "                        #im4dwi = np.swapaxes(im4dwi, 1, 2)\n",
    "                        #im4dwi = np.swapaxes(im4dwi, 2, 3)\n",
    "                    elif 'O.CT.' in file:\n",
    "                        imct = im\n",
    "                    elif '_CBF.' in file:\n",
    "                        imcbf = im\n",
    "                    elif '_CBV.' in file:\n",
    "                        imcbv = im\n",
    "                    elif '_MTT.' in file:\n",
    "                        immtt = im\n",
    "                    elif '_Tmax.' in file:\n",
    "                        imtmax = im\n",
    "                    elif 'O.OT.' in file:\n",
    "                        imlb = im\n",
    "                    else:\n",
    "                        continue\n",
    "\n",
    "        im4dwi0 = -1*im4dwi[0,:]\n",
    "                        \n",
    "        im4dwi_nm = im_normalize(im4dwi0)\n",
    "        imct_nm = im_normalize(imct)\n",
    "        imcbf_nm = im_normalize(imcbf)\n",
    "        imcbv_nm = im_normalize(imcbv)\n",
    "        immtt_nm = im_normalize(immtt)\n",
    "        imtmax_nm = imtmax * 10\n",
    "        \n",
    "        _im4dwi_nm = im_normalize(_im4dwi)\n",
    "        \n",
    "        if imlb is None:\n",
    "            imlb = np.zeros_like(imct)\n",
    "\n",
    "        with warnings.catch_warnings():\n",
    "            warnings.simplefilter(\"ignore\")\n",
    "#             im4d = np.stack([imct_nm, imcbf_nm, imcbv_nm, \n",
    "#                              immtt_nm, imtmax_nm], axis=3)\n",
    "#             im4d = np.concatenate((im4d, im4dwi_nm), axis=3)\n",
    "            im4d = np.stack([imct_nm, im4dwi_nm, imtmax_nm], axis=3)\n",
    "\n",
    "            imfname = os.path.join(save_dir,\n",
    "                                   os.path.basename(os.path.normpath(case)) +\n",
    "                                   '_4d' + '.pkl')\n",
    "            with open(imfname, 'wb') as f:\n",
    "                pickle.dump(im4d, f)\n",
    "\n",
    "            im4d2 = np.stack([imcbf_nm, imcbv_nm, immtt_nm], axis=3)\n",
    "            im2fname = os.path.join(save_dir,\n",
    "                                   os.path.basename(os.path.normpath(case)) +\n",
    "                                   '_4d2' + '.pkl')\n",
    "            with open(im2fname, 'wb') as f:\n",
    "                pickle.dump(im4d2, f)\n",
    "                \n",
    "            lb3d = imlb * 255\n",
    "            lbfname = os.path.join(save_dir,\n",
    "                                   os.path.basename(os.path.normpath(case)) +\n",
    "                                   '_lb_3d' + '.pkl')\n",
    "            with open(lbfname, 'wb') as f:\n",
    "                pickle.dump(lb3d, f)\n",
    "                \n",
    "            lb3d = imlb * 255\n",
    "            lbfname = os.path.join(save_dir,\n",
    "                                   os.path.basename(os.path.normpath(case)) +\n",
    "                                   '_lb_3d' + '.pkl')\n",
    "            with open(lbfname, 'wb') as f:\n",
    "                pickle.dump(lb3d, f)\n",
    "                \n",
    "            lb3d2 = np.stack([_im4dwi_nm[0,:], lb3d, _im4dwi_nm[-1,:]], axis=3)\n",
    "            lb2fname = os.path.join(save_dir,\n",
    "                                   os.path.basename(os.path.normpath(case)) +\n",
    "                                   '_lb_3d2' + '.pkl')\n",
    "            with open(lb2fname, 'wb') as f:\n",
    "                pickle.dump(lb3d2, f)"
   ]
  },
  {
   "cell_type": "code",
   "execution_count": 22,
   "metadata": {},
   "outputs": [],
   "source": [
    "subjects = glob.glob('/datasets/isles18/TRAINING/case_*/')\n",
    "write_3d_im(subjects, '/datasets/isles18/training_4d')"
   ]
  },
  {
   "cell_type": "code",
   "execution_count": 23,
   "metadata": {},
   "outputs": [],
   "source": [
    "subjects = glob.glob('/datasets/isles18/TESTING/case_*/')\n",
    "write_3d_im(subjects, '/datasets/isles18/testing_4d')"
   ]
  },
  {
   "cell_type": "code",
   "execution_count": 9,
   "metadata": {},
   "outputs": [
    {
     "data": {
      "text/plain": [
       "(24, 256, 256)"
      ]
     },
     "execution_count": 9,
     "metadata": {},
     "output_type": "execute_result"
    }
   ],
   "source": [
    "lb3d.shape"
   ]
  },
  {
   "cell_type": "code",
   "execution_count": 10,
   "metadata": {},
   "outputs": [],
   "source": [
    "import matplotlib.pyplot as plt\n",
    "%matplotlib inline\n",
    "\n",
    "from IPython.display import display"
   ]
  },
  {
   "cell_type": "code",
   "execution_count": 11,
   "metadata": {},
   "outputs": [
    {
     "data": {
      "image/png": "[encoded data removed]",
      "text/plain": [
       "<Figure size 432x288 with 2 Axes>"
      ]
     },
     "metadata": {},
     "output_type": "display_data"
    }
   ],
   "source": [
    "plt.figure()\n",
    "plt.imshow(lb3d[12,:,:], cmap=plt.cm.jet)\n",
    "plt.colorbar()\n",
    "plt.show()"
   ]
  },
  {
   "cell_type": "code",
   "execution_count": 12,
   "metadata": {},
   "outputs": [
    {
     "data": {
      "image/png": "[encoded data removed]",
      "text/plain": [
       "<Figure size 432x288 with 2 Axes>"
      ]
     },
     "metadata": {},
     "output_type": "display_data"
    }
   ],
   "source": [
    "lb3dfp = np.flip(lb3d, 2)\n",
    "plt.figure()\n",
    "plt.imshow(lb3dfp[12,:,:], cmap=plt.cm.jet)\n",
    "plt.colorbar()\n",
    "plt.show()"
   ]
  },
  {
   "cell_type": "code",
   "execution_count": null,
   "metadata": {},
   "outputs": [],
   "source": []
  }
 ],
 "metadata": {
  "kernelspec": {
   "display_name": "Python 3",
   "language": "python",
   "name": "python3"
  },
  "language_info": {
   "codemirror_mode": {
    "name": "ipython",
    "version": 3
   },
   "file_extension": ".py",
   "mimetype": "text/x-python",
   "name": "python",
   "nbconvert_exporter": "python",
   "pygments_lexer": "ipython3",
   "version": "3.6.4"
  }
 },
 "nbformat": 4,
 "nbformat_minor": 2
}
